{
 "cells": [
  {
   "cell_type": "markdown",
   "id": "taken-hamilton",
   "metadata": {},
   "source": [
    "# Generative Adversarial Network using Keras\n",
    "inspired by https://www.tensorflow.org/tutorials/generative/dcgan"
   ]
  },
  {
   "cell_type": "code",
   "execution_count": 6,
   "id": "retained-defeat",
   "metadata": {},
   "outputs": [],
   "source": [
    "import matplotlib.pyplot as plt\n",
    "import numpy as np\n",
    "import os\n",
    "import tensorflow as tf\n",
    "from tensorflow import keras\n",
    "from tensorflow.keras import layers\n",
    "import time\n",
    "from IPython import display\n",
    "%config IPCompleter.greedy=True"
   ]
  },
  {
   "cell_type": "markdown",
   "id": "medical-enterprise",
   "metadata": {},
   "source": [
    "# Load and prepare dataset"
   ]
  },
  {
   "cell_type": "code",
   "execution_count": null,
   "id": "gentle-accident",
   "metadata": {},
   "outputs": [],
   "source": [
    "import glob\n",
    "from PIL import Image\n",
    "image_list = []\n",
    "for filename in glob.glob('./catface_data/*.jpg'): \n",
    "    im=Image.open(filename)\n",
    "    image_list.append(np.array(im))\n",
    "    im.close()\n",
    "train_images = np.array(image_list)\n",
    "print(train_images.shape)\n"
   ]
  },
  {
   "cell_type": "code",
   "execution_count": null,
   "id": "mediterranean-intersection",
   "metadata": {},
   "outputs": [],
   "source": [
    "train_images = train_images.reshape(train_images.shape[0], 256, 256, 3).astype('float32')\n",
    "train_images = (train_images - 127.5) / 127.5 # Normalize the images to [-1, 1]"
   ]
  },
  {
   "cell_type": "code",
   "execution_count": null,
   "id": "italic-copying",
   "metadata": {},
   "outputs": [],
   "source": [
    "BUFFER_SIZE = 5153\n",
    "BATCH_SIZE = 8"
   ]
  },
  {
   "cell_type": "code",
   "execution_count": null,
   "id": "danish-proposal",
   "metadata": {},
   "outputs": [],
   "source": [
    "# Batch and shuffle the data\n",
    "train_dataset = tf.data.Dataset.from_tensor_slices(train_images).shuffle(BUFFER_SIZE).batch(BATCH_SIZE)"
   ]
  },
  {
   "cell_type": "markdown",
   "id": "younger-uzbekistan",
   "metadata": {},
   "source": [
    "# Custom Layers"
   ]
  },
  {
   "cell_type": "code",
   "execution_count": null,
   "id": "antique-forth",
   "metadata": {},
   "outputs": [],
   "source": [
    "# Residual block for generator network\n",
    "class ResnetBlock_1(tf.keras.Model):\n",
    "  def __init__(self, kernel_size, filters):\n",
    "    super(ResnetBlock_1, self).__init__(name='')\n",
    "    filters1, filters2 = filters\n",
    "    kernel_size1, kernel_size2 = kernel_size\n",
    "\n",
    "    self.conv2a = tf.keras.layers.Conv2D(filters1, kernel_size1,  (1, 1), padding='same')\n",
    "    self.bn2a = tf.keras.layers.BatchNormalization()\n",
    "    self.relu = tf.keras.layers.PReLU() # Eventually test pRelu instead\n",
    "\n",
    "    self.conv2b = tf.keras.layers.Conv2D(filters2, kernel_size2,  (1, 1), padding='same')\n",
    "    self.bn2b = tf.keras.layers.BatchNormalization()\n",
    "\n",
    "\n",
    "  def call(self, input_tensor, training=False):\n",
    "    x = self.conv2a(input_tensor)\n",
    "    x = self.bn2a(x, training=training)\n",
    "    x = self.relu(x)\n",
    "\n",
    "    x = self.conv2b(x)\n",
    "    x = self.bn2b(x, training=training)\n",
    "\n",
    "    x += input_tensor\n",
    "    return x\n",
    "\n",
    "\n",
    "#block = ResnetBlock([1, 2] , [1, 2]) \n",
    "\n",
    "def resnet_blocks_1(num_of_blocks, x, kernelsize, num_of_filters):\n",
    "    for _ in range(num_of_blocks):  # multiple residual blocks\n",
    "        x = ResnetBlock_1([kernelsize,kernelsize], [num_of_filters,num_of_filters])(x)\n",
    "    return x"
   ]
  },
  {
   "cell_type": "code",
   "execution_count": null,
   "id": "architectural-tuner",
   "metadata": {},
   "outputs": [],
   "source": [
    "#Residual block for discriminator network\n",
    "class ResnetBlock_2(tf.keras.Model):\n",
    "  def __init__(self, kernel_size, filters):\n",
    "    super(ResnetBlock_2, self).__init__(name='')\n",
    "    filters1, filters2 = filters\n",
    "    kernel_size1, kernel_size2 = kernel_size\n",
    "\n",
    "    self.conv2a = tf.keras.layers.Conv2D(filters1, kernel_size1,  (1, 1), padding='same')\n",
    "    self.relu_a = tf.keras.layers.LeakyReLU() # Eventually test pRelu instead\n",
    "\n",
    "    self.conv2b = tf.keras.layers.Conv2D(filters2, kernel_size2,  (1, 1), padding='same')\n",
    "    self.relu_b = tf.keras.layers.LeakyReLU() \n",
    "\n",
    "\n",
    "\n",
    "  def call(self, input_tensor, training=False):\n",
    "    x = self.conv2a(input_tensor)\n",
    "    x = self.relu_a(x)\n",
    "\n",
    "    x = self.conv2b(x)\n",
    "\n",
    "    x += input_tensor\n",
    "    return self.relu_b(x)\n",
    "\n",
    "def resnet_blocks_2(num_of_blocks, x, kernelsize, num_of_filters):\n",
    "    for _ in range(num_of_blocks): \n",
    "        x = ResnetBlock_2([kernelsize,kernelsize], [num_of_filters,num_of_filters])(x)\n",
    "    return x"
   ]
  },
  {
   "cell_type": "markdown",
   "id": "alpha-notification",
   "metadata": {},
   "source": [
    "# The Generator"
   ]
  },
  {
   "cell_type": "code",
   "execution_count": null,
   "id": "contemporary-weapon",
   "metadata": {},
   "outputs": [],
   "source": [
    "advancedGan = True"
   ]
  },
  {
   "cell_type": "code",
   "execution_count": null,
   "id": "rental-knight",
   "metadata": {},
   "outputs": [],
   "source": [
    "if advancedGan:\n",
    "    def make_generator_model():\n",
    "        inputs = layers.Input(shape=(256,))\n",
    "        x = layers.Dense(32*32*128, use_bias=False, input_shape=(256,))(inputs)\n",
    "        x = layers.BatchNormalization()(x)\n",
    "        x = layers.PReLU()(x)\n",
    "        x = layers.Reshape((32, 32, 128))(x)\n",
    "        x_res = resnet_blocks_1(num_of_blocks=16, x=x, kernelsize=3, num_of_filters=128)\n",
    "\n",
    "        assert x.shape.as_list() == [None, 32, 32, 128]\n",
    "\n",
    "        x_res = tf.keras.layers.Conv2D(128, 3,  (1, 1), padding='same')(x_res)\n",
    "        x_res = layers.BatchNormalization()(x_res)\n",
    "        x_res = layers.PReLU()(x_res)\n",
    "        x = x + x_res\n",
    "\n",
    "        x = tf.keras.layers.Conv2D(256, 3,  (1, 1), padding='same')(x)\n",
    "        x = tf.nn.depth_to_space(x, 2) # this should be equivalent to pixel shuffle\n",
    "        assert x.shape.as_list() == [None, 64, 64, 64]\n",
    "        x = layers.BatchNormalization()(x)\n",
    "        x = layers.PReLU()(x)\n",
    "\n",
    "        x = tf.keras.layers.Conv2D(256, 3,  (1, 1), padding='same')(x)\n",
    "        x = tf.nn.depth_to_space(x, 2) # this should be equivalent to pixel shuffle\n",
    "        assert x.shape.as_list() == [None, 128, 128, 64]\n",
    "        x = layers.BatchNormalization()(x)\n",
    "        x = layers.PReLU()(x)\n",
    "\n",
    "        x = tf.keras.layers.Conv2D(256, 3,  (1, 1), padding='same')(x)\n",
    "        x = tf.nn.depth_to_space(x, 2) # this should be equivalent to pixel shuffle\n",
    "        assert x.shape.as_list() == [None, 256, 256, 64]\n",
    "        x = layers.BatchNormalization()(x)\n",
    "        x = layers.PReLU()(x)\n",
    "\n",
    "        outputs = tf.keras.layers.Conv2D(3, 9,  (1, 1), padding='same', activation='tanh')(x)\n",
    "\n",
    "        assert outputs.shape.as_list() == [None, 256, 256, 3]\n",
    "\n",
    "        return keras.Model(inputs = inputs, outputs = outputs, name = \"Generator_Network\")"
   ]
  },
  {
   "cell_type": "code",
   "execution_count": null,
   "id": "endangered-keeping",
   "metadata": {},
   "outputs": [],
   "source": [
    "if not advancedGan:\n",
    "    def make_generator_model():\n",
    "        inputs = layers.Input(shape=(256,))\n",
    "        x = layers.Dense(8*8*256, use_bias=False, input_shape=(256,))(inputs)\n",
    "        x = layers.BatchNormalization()(x)\n",
    "        x = layers.LeakyReLU()(x)\n",
    "\n",
    "        x = layers.Reshape((8, 8, 256))(x)\n",
    "\n",
    "        x = layers.Conv2DTranspose(128, (5, 5), strides=(1, 1), padding='same', use_bias=False)(x) \n",
    "        assert x.shape.as_list() == [None, 8, 8, 128]\n",
    "        x = layers.BatchNormalization()(x)\n",
    "        x = layers.LeakyReLU()(x)\n",
    "\n",
    "        x = layers.Conv2DTranspose(64, (5, 5), strides=(2, 2), padding='same', use_bias=False)(x)\n",
    "        assert x.shape.as_list() == [None, 16, 16, 64]\n",
    "        x = layers.BatchNormalization()(x)\n",
    "        x = layers.LeakyReLU()(x)\n",
    "\n",
    "        x = layers.Conv2DTranspose(32, (5, 5), strides=(2, 2), padding='same', use_bias=False)(x)\n",
    "        assert x.shape.as_list() == [None, 32, 32, 32]\n",
    "        x = layers.BatchNormalization()(x)\n",
    "        x = layers.LeakyReLU()(x)\n",
    "\n",
    "        x = layers.Conv2DTranspose(16, (5, 5), strides=(2, 2), padding='same', use_bias=False)(x)\n",
    "        assert x.shape.as_list() == [None, 64, 64, 16]\n",
    "        x = layers.BatchNormalization()(x)\n",
    "        x = layers.LeakyReLU()(x)\n",
    "\n",
    "        x = layers.Conv2DTranspose(8, (5, 5), strides=(2, 2), padding='same', use_bias=False)(x)\n",
    "        assert x.shape.as_list() == [None, 128, 128, 8]\n",
    "        x = layers.BatchNormalization()(x)\n",
    "        x = layers.LeakyReLU()(x)\n",
    "\n",
    "        outputs = layers.Conv2DTranspose(3, (5, 5), strides=(2, 2), padding='same', use_bias=False, activation='tanh')(x)\n",
    "        assert outputs.shape.as_list() == [None, 256, 256, 3]\n",
    "\n",
    "        return keras.Model(inputs = inputs, outputs = outputs, name = \"Generator_Network\")"
   ]
  },
  {
   "cell_type": "code",
   "execution_count": null,
   "id": "suitable-somerset",
   "metadata": {},
   "outputs": [],
   "source": [
    "generator = make_generator_model()\n",
    "noise = tf.random.normal([1, 256])\n",
    "generated_image = generator(noise, training=False)\n",
    "plt.imshow(generated_image[0, :, :, 0])"
   ]
  },
  {
   "cell_type": "markdown",
   "id": "detailed-drama",
   "metadata": {},
   "source": [
    "# The Discriminator"
   ]
  },
  {
   "cell_type": "code",
   "execution_count": null,
   "id": "voluntary-recipient",
   "metadata": {},
   "outputs": [],
   "source": [
    "if advancedGan:\n",
    "    def make_discriminator_model():\n",
    "        inputs = layers.Input(shape=(256,256,3))\n",
    "        x = layers.Conv2D(32, 4, strides=(2, 2), padding='same')(inputs)\n",
    "        x = layers.LeakyReLU()(x)\n",
    "\n",
    "        assert x.shape.as_list() == [None, 128, 128, 32]\n",
    "        x = resnet_blocks_2(num_of_blocks=2, x=x, kernelsize=3, num_of_filters=32)\n",
    "\n",
    "        x = layers.Conv2D(64, 4, strides=(2, 2), padding='same')(x)\n",
    "        x = layers.LeakyReLU()(x)\n",
    "        assert x.shape.as_list() == [None, 64, 64, 64] \n",
    "\n",
    "        x = resnet_blocks_2(num_of_blocks=2, x=x, kernelsize=3, num_of_filters=64)\n",
    "\n",
    "        x = layers.Conv2D(128, 4, strides=(2, 2), padding='same')(x)\n",
    "        x = layers.LeakyReLU()(x)\n",
    "        assert x.shape.as_list() == [None, 32, 32, 128] \n",
    "\n",
    "        x = resnet_blocks_2(num_of_blocks=2, x=x, kernelsize=3, num_of_filters=128)\n",
    "\n",
    "        x = layers.Conv2D(256, 4, strides=(2, 2), padding='same')(x)\n",
    "        x = layers.LeakyReLU()(x)\n",
    "        assert x.shape.as_list() == [None, 16, 16, 256] \n",
    "\n",
    "        x = resnet_blocks_2(num_of_blocks=2, x=x, kernelsize=3, num_of_filters=256)\n",
    "\n",
    "        x = layers.Conv2D(512, 4, strides=(2, 2), padding='same')(x)\n",
    "        x = layers.LeakyReLU()(x)\n",
    "\n",
    "        assert x.shape.as_list() == [None, 8, 8, 512] \n",
    "\n",
    "        x = resnet_blocks_2(num_of_blocks=2, x=x, kernelsize=3, num_of_filters=512)\n",
    "\n",
    "        x = layers.Conv2D(1024, 4, strides=(2, 2), padding='same')(x)\n",
    "        x = layers.LeakyReLU()(x)\n",
    "\n",
    "        assert x.shape.as_list() == [None, 4, 4, 1024] \n",
    "\n",
    "        outputs = layers.Flatten()(x)\n",
    "        outputs = layers.Dense(1)(outputs)\n",
    "\n",
    "        return keras.Model(inputs = inputs, outputs = outputs, name = \"Discriminator_Network\")"
   ]
  },
  {
   "cell_type": "code",
   "execution_count": null,
   "id": "charming-pizza",
   "metadata": {},
   "outputs": [],
   "source": [
    "if not advancedGan:\n",
    "    def make_discriminator_model():\n",
    "        inputs = layers.Input(shape=(256,256,3))\n",
    "        x = layers.Conv2D(64, (5, 5), strides=(2, 2), padding='same',\n",
    "                                         input_shape=[256, 256, 3])(inputs)\n",
    "        x = layers.LeakyReLU()(x)\n",
    "        x = layers.Dropout(0.3)(x)\n",
    "\n",
    "        x = layers.Conv2D(128, (5, 5), strides=(2, 2), padding='same')(x)\n",
    "        x = layers.LeakyReLU()(x)\n",
    "        x = layers.Dropout(0.3)(x)\n",
    "\n",
    "        x = layers.Conv2D(256, (5, 5), strides=(2, 2), padding='same')(x)\n",
    "        x = layers.LeakyReLU()(x)\n",
    "        x = layers.Dropout(0.3)(x)\n",
    "\n",
    "        x = layers.Conv2D(512, (5, 5), strides=(2, 2), padding='same')(x)\n",
    "        x = layers.LeakyReLU()(x)\n",
    "        x = layers.Dropout(0.3)(x)\n",
    "\n",
    "        outputs = layers.Flatten()(x)\n",
    "        outputs = layers.Dense(1)(outputs)\n",
    "\n",
    "        return keras.Model(inputs = inputs, outputs = outputs, name = \"Discriminator_Network\")"
   ]
  },
  {
   "cell_type": "code",
   "execution_count": null,
   "id": "cross-commissioner",
   "metadata": {},
   "outputs": [],
   "source": [
    "discriminator = make_discriminator_model()\n",
    "decision = discriminator(generated_image)\n",
    "print (decision)"
   ]
  },
  {
   "cell_type": "markdown",
   "id": "sustained-empire",
   "metadata": {},
   "source": [
    "# Loss and optimizer"
   ]
  },
  {
   "cell_type": "code",
   "execution_count": null,
   "id": "considered-heather",
   "metadata": {},
   "outputs": [],
   "source": [
    "# This method returns a helper function to compute cross entropy loss\n",
    "cross_entropy = tf.keras.losses.BinaryCrossentropy(from_logits=True)"
   ]
  },
  {
   "cell_type": "markdown",
   "id": "continental-ranking",
   "metadata": {},
   "source": [
    "## Discriminator Loss"
   ]
  },
  {
   "cell_type": "code",
   "execution_count": null,
   "id": "vietnamese-reservoir",
   "metadata": {},
   "outputs": [],
   "source": [
    "def discriminator_loss(real_output, fake_output):\n",
    "    real_loss = cross_entropy(tf.ones_like(real_output), real_output)\n",
    "    fake_loss = cross_entropy(tf.zeros_like(fake_output), fake_output)\n",
    "    total_loss = real_loss + fake_loss\n",
    "    return total_loss"
   ]
  },
  {
   "cell_type": "markdown",
   "id": "republican-bubble",
   "metadata": {},
   "source": [
    "## Generator Loss"
   ]
  },
  {
   "cell_type": "code",
   "execution_count": null,
   "id": "embedded-report",
   "metadata": {},
   "outputs": [],
   "source": [
    "def generator_loss(fake_output):\n",
    "    return cross_entropy(tf.ones_like(fake_output), fake_output)"
   ]
  },
  {
   "cell_type": "markdown",
   "id": "meaningful-vulnerability",
   "metadata": {},
   "source": [
    "## Learning rates"
   ]
  },
  {
   "cell_type": "code",
   "execution_count": null,
   "id": "fluid-clarity",
   "metadata": {},
   "outputs": [],
   "source": [
    "generator_optimizer = tf.keras.optimizers.RMSprop(1e-4)\n",
    "discriminator_optimizer = tf.keras.optimizers.RMSprop(1e-4)"
   ]
  },
  {
   "cell_type": "markdown",
   "id": "aggregate-answer",
   "metadata": {},
   "source": [
    "# Save Checkpoints"
   ]
  },
  {
   "cell_type": "code",
   "execution_count": null,
   "id": "realistic-allocation",
   "metadata": {},
   "outputs": [],
   "source": [
    "checkpoint_dir = './training_checkpoints'\n",
    "checkpoint_prefix = os.path.join(checkpoint_dir, \"ckpt\")\n",
    "checkpoint = tf.train.Checkpoint(generator_optimizer=generator_optimizer,\n",
    "                                 discriminator_optimizer=discriminator_optimizer,\n",
    "                                 generator=generator,\n",
    "                                 discriminator=discriminator)"
   ]
  },
  {
   "cell_type": "markdown",
   "id": "herbal-spell",
   "metadata": {},
   "source": [
    "# Plot Generator and Discriminator loss"
   ]
  },
  {
   "cell_type": "code",
   "execution_count": null,
   "id": "catholic-shower",
   "metadata": {},
   "outputs": [],
   "source": [
    "import matplotlib.ticker as ticker\n",
    "\n",
    "def plot_loss(gen_loss, disc_loss):\n",
    "    fig, ax = plt.subplots(figsize=(4, 4))\n",
    "    plt.plot(gen_loss, 'b', label=\"Gen loss\")\n",
    "    plt.plot(disc_loss, 'r', label=\"Disc loss\")\n",
    "    ax.xaxis.set_major_locator(ticker.MaxNLocator(integer=True))\n",
    "    ax.set_xlabel('epochs')\n",
    "    ax.set_ylabel('loss')\n",
    "    plt.legend()\n",
    "    plt.show()\n",
    "    "
   ]
  },
  {
   "cell_type": "markdown",
   "id": "extended-system",
   "metadata": {},
   "source": [
    "# Training loop"
   ]
  },
  {
   "cell_type": "code",
   "execution_count": null,
   "id": "apart-haiti",
   "metadata": {},
   "outputs": [],
   "source": [
    "EPOCHS = 50\n",
    "noise_dim = 256\n",
    "num_examples_to_generate = 16\n",
    "\n",
    "# We will reuse this seed overtime (so it's easier)\n",
    "# to visualize progress in the animated GIF)\n",
    "seed = tf.random.normal([num_examples_to_generate, noise_dim])"
   ]
  },
  {
   "cell_type": "code",
   "execution_count": null,
   "id": "incident-laptop",
   "metadata": {},
   "outputs": [],
   "source": [
    "# Notice the use of `tf.function`\n",
    "# This annotation causes the function to be \"compiled\".\n",
    "@tf.function\n",
    "def train_step(images):\n",
    "    noise = tf.random.normal([BATCH_SIZE, noise_dim])\n",
    "\n",
    "    with tf.GradientTape() as gen_tape, tf.GradientTape() as disc_tape:\n",
    "      generated_images = generator(noise, training=True)\n",
    "      real_output = discriminator(images, training=True)\n",
    "      fake_output = discriminator(generated_images, training=True)\n",
    "\n",
    "      gen_loss = generator_loss(fake_output)\n",
    "      disc_loss = discriminator_loss(real_output, fake_output)\n",
    "\n",
    "    gradients_of_generator = gen_tape.gradient(gen_loss, generator.trainable_variables)\n",
    "    gradients_of_discriminator = disc_tape.gradient(disc_loss, discriminator.trainable_variables)\n",
    "\n",
    "    generator_optimizer.apply_gradients(zip(gradients_of_generator, generator.trainable_variables))\n",
    "    discriminator_optimizer.apply_gradients(zip(gradients_of_discriminator, discriminator.trainable_variables))\n",
    "    \n",
    "    return gen_loss, disc_loss"
   ]
  },
  {
   "cell_type": "code",
   "execution_count": null,
   "id": "norman-lease",
   "metadata": {},
   "outputs": [],
   "source": [
    "def train(dataset, epochs):\n",
    "  gen_losses = []\n",
    "  disc_losses = []\n",
    "  for epoch in range(epochs):\n",
    "    start = time.time()\n",
    "    gen_loss_sum = 0\n",
    "    disc_loss_sum = 0\n",
    "    for image_batch in dataset:\n",
    "      gen_loss, disc_loss = train_step(image_batch)\n",
    "      gen_loss_sum += gen_loss\n",
    "      disc_loss_sum += disc_loss\n",
    "    \n",
    "    gen_losses.append(gen_loss_sum / len(dataset))\n",
    "    disc_losses.append(disc_loss_sum / len(dataset))\n",
    "    \n",
    "    # Reset output\n",
    "    display.clear_output(wait=True)\n",
    "    generate_and_save_images(generator,\n",
    "                             epoch + 1,\n",
    "                             seed, True)\n",
    "    \n",
    "    plot_loss(gen_losses, disc_losses)\n",
    "\n",
    "    # Save the model every 15 epochs\n",
    "    if (epoch + 1) % 15 == 0:\n",
    "      checkpoint.save(file_prefix = checkpoint_prefix)\n",
    "\n",
    "    print ('Time for epoch {} is {} sec'.format(epoch + 1, time.time()-start))\n",
    "\n",
    "  # Generate after the final epoch\n",
    "  display.clear_output(wait=True)\n",
    "  generate_and_save_images(generator,\n",
    "                           epochs,\n",
    "                           seed, True)"
   ]
  },
  {
   "cell_type": "markdown",
   "id": "naval-morris",
   "metadata": {},
   "source": [
    "# Generate and save Images"
   ]
  },
  {
   "cell_type": "code",
   "execution_count": null,
   "id": "central-accent",
   "metadata": {},
   "outputs": [],
   "source": [
    "def generate_and_save_images(model, epoch, test_input, save=False):\n",
    "  # Notice `training` is set to False.\n",
    "  # This is so all layers run in inference mode (batchnorm).\n",
    "  predictions = model(test_input, training=False)\n",
    "\n",
    "  gen_fig = plt.figure(figsize=(8,8))\n",
    "\n",
    "  for i in range(predictions.shape[0]):\n",
    "      plt.subplot(4, 4, i+1)\n",
    "      plt.imshow((predictions[i, :, :, :] +1) /2)\n",
    "      plt.axis('off')\n",
    "  if(save):\n",
    "    plt.savefig('image_at_epoch_{:04d}.png'.format(epoch))\n",
    "  plt.show()"
   ]
  },
  {
   "cell_type": "markdown",
   "id": "formed-denver",
   "metadata": {},
   "source": [
    "# Train the Model"
   ]
  },
  {
   "cell_type": "code",
   "execution_count": null,
   "id": "rubber-myrtle",
   "metadata": {},
   "outputs": [],
   "source": [
    "checkpoint.restore(tf.train.latest_checkpoint(checkpoint_dir))"
   ]
  },
  {
   "cell_type": "code",
   "execution_count": null,
   "id": "cross-burton",
   "metadata": {},
   "outputs": [],
   "source": [
    "train(train_dataset, EPOCHS)"
   ]
  },
  {
   "cell_type": "markdown",
   "id": "civic-underground",
   "metadata": {},
   "source": [
    "# Restore latest checkpoint"
   ]
  },
  {
   "cell_type": "code",
   "execution_count": null,
   "id": "unlike-findings",
   "metadata": {},
   "outputs": [],
   "source": [
    "checkpoint.restore(tf.train.latest_checkpoint(checkpoint_dir))"
   ]
  }
 ],
 "metadata": {
  "kernelspec": {
   "display_name": "TensorFlow-GPU",
   "language": "python",
   "name": "tf-gpu"
  },
  "language_info": {
   "codemirror_mode": {
    "name": "ipython",
    "version": 3
   },
   "file_extension": ".py",
   "mimetype": "text/x-python",
   "name": "python",
   "nbconvert_exporter": "python",
   "pygments_lexer": "ipython3",
   "version": "3.8.5"
  }
 },
 "nbformat": 4,
 "nbformat_minor": 5
}
